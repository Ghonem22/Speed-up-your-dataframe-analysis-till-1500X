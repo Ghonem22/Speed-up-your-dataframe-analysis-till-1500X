{
  "nbformat": 4,
  "nbformat_minor": 0,
  "metadata": {
    "colab": {
      "name": "Speed up your dataframe analysis till 1500X using swifter.ipynb",
      "provenance": [],
      "authorship_tag": "ABX9TyP/s1J4jCH2mY9tAOokkW9x",
      "include_colab_link": true
    },
    "kernelspec": {
      "name": "python3",
      "display_name": "Python 3"
    },
    "language_info": {
      "name": "python"
    }
  },
  "cells": [
    {
      "cell_type": "markdown",
      "metadata": {
        "id": "view-in-github",
        "colab_type": "text"
      },
      "source": [
        "<a href=\"https://colab.research.google.com/github/Ghonem22/Speed-up-your-dataframe-analysis-till-1500X/blob/main/Speed_up_your_dataframe_analysis_till_1500X_using_swifter.ipynb\" target=\"_parent\"><img src=\"https://colab.research.google.com/assets/colab-badge.svg\" alt=\"Open In Colab\"/></a>"
      ]
    },
    {
      "cell_type": "markdown",
      "source": [
        "## install required library\n",
        "**Don't forget to restart the kernel after installation**"
      ],
      "metadata": {
        "id": "wM8px2oJzhpp"
      }
    },
    {
      "cell_type": "code",
      "source": [
        "!pip install swifter"
      ],
      "metadata": {
        "id": "I5TLnCRG1CZe"
      },
      "execution_count": null,
      "outputs": []
    },
    {
      "cell_type": "markdown",
      "source": [
        "## required libraries"
      ],
      "metadata": {
        "id": "baMpuoiQ18fu"
      }
    },
    {
      "cell_type": "code",
      "source": [
        "import shutil\n",
        "import swifter\n",
        "import time"
      ],
      "metadata": {
        "id": "3pMxXHT-176G"
      },
      "execution_count": 5,
      "outputs": []
    },
    {
      "cell_type": "markdown",
      "source": [
        "## Download and unzip data"
      ],
      "metadata": {
        "id": "ATC_Cf6Y1DWg"
      }
    },
    {
      "cell_type": "code",
      "source": [
        "!wget https://www.stats.govt.nz/assets/Uploads/New-Zealand-business-demography-statistics/New-Zealand-business-demography-statistics-At-February-2021/Download-data/Geographic-units-by-industry-and-statistical-area-2000-2021-descending-order-CSV.zip"
      ],
      "metadata": {
        "colab": {
          "base_uri": "https://localhost:8080/"
        },
        "id": "B1Xz38hyzflU",
        "outputId": "08ef1815-4478-4839-899a-618db613ee5f"
      },
      "execution_count": 5,
      "outputs": [
        {
          "output_type": "stream",
          "name": "stdout",
          "text": [
            "--2022-04-13 02:46:51--  https://www.stats.govt.nz/assets/Uploads/New-Zealand-business-demography-statistics/New-Zealand-business-demography-statistics-At-February-2021/Download-data/Geographic-units-by-industry-and-statistical-area-2000-2021-descending-order-CSV.zip\n",
            "Resolving www.stats.govt.nz (www.stats.govt.nz)... 45.60.11.104\n",
            "Connecting to www.stats.govt.nz (www.stats.govt.nz)|45.60.11.104|:443... connected.\n",
            "HTTP request sent, awaiting response... 200 OK\n",
            "Length: 22898963 (22M) [application/zip]\n",
            "Saving to: ‘Geographic-units-by-industry-and-statistical-area-2000-2021-descending-order-CSV.zip’\n",
            "\n",
            "Geographic-units-by 100%[===================>]  21.84M  7.84MB/s    in 2.8s    \n",
            "\n",
            "2022-04-13 02:46:55 (7.84 MB/s) - ‘Geographic-units-by-industry-and-statistical-area-2000-2021-descending-order-CSV.zip’ saved [22898963/22898963]\n",
            "\n"
          ]
        }
      ]
    },
    {
      "cell_type": "code",
      "source": [
        "shutil.unpack_archive(\"/content/Geographic-units-by-industry-and-statistical-area-2000-2021-descending-order-CSV.zip\", \"/content\")"
      ],
      "metadata": {
        "id": "uX-kQMU00ePh"
      },
      "execution_count": 8,
      "outputs": []
    },
    {
      "cell_type": "code",
      "source": [
        "import pandas as pd\n",
        "df = pd.read_csv(\"/content/Data7602DescendingYearOrder.csv\")\n",
        "print(f\"this dataframe has {len(df)} rows \\n\\n\\n\")\n",
        "df.head()"
      ],
      "metadata": {
        "colab": {
          "base_uri": "https://localhost:8080/",
          "height": 276
        },
        "id": "VXtqk10WzrM1",
        "outputId": "3f79b394-2b7c-4b1e-c32f-5877617cb716"
      },
      "execution_count": 3,
      "outputs": [
        {
          "output_type": "stream",
          "name": "stdout",
          "text": [
            "this dataframe has 5704247 rows \n",
            "\n",
            "\n",
            "\n"
          ]
        },
        {
          "output_type": "execute_result",
          "data": {
            "text/plain": [
              "  anzsic06     Area  year  geo_count  ec_count\n",
              "0        A  A100100  2021         90       200\n",
              "1        A  A100200  2021        141       210\n",
              "2        A  A100300  2021          6        25\n",
              "3        A  A100400  2021         54        65\n",
              "4        A  A100500  2021         63        95"
            ],
            "text/html": [
              "\n",
              "  <div id=\"df-7ba69840-84d4-45cf-b23b-f3f0d5e3faa1\">\n",
              "    <div class=\"colab-df-container\">\n",
              "      <div>\n",
              "<style scoped>\n",
              "    .dataframe tbody tr th:only-of-type {\n",
              "        vertical-align: middle;\n",
              "    }\n",
              "\n",
              "    .dataframe tbody tr th {\n",
              "        vertical-align: top;\n",
              "    }\n",
              "\n",
              "    .dataframe thead th {\n",
              "        text-align: right;\n",
              "    }\n",
              "</style>\n",
              "<table border=\"1\" class=\"dataframe\">\n",
              "  <thead>\n",
              "    <tr style=\"text-align: right;\">\n",
              "      <th></th>\n",
              "      <th>anzsic06</th>\n",
              "      <th>Area</th>\n",
              "      <th>year</th>\n",
              "      <th>geo_count</th>\n",
              "      <th>ec_count</th>\n",
              "    </tr>\n",
              "  </thead>\n",
              "  <tbody>\n",
              "    <tr>\n",
              "      <th>0</th>\n",
              "      <td>A</td>\n",
              "      <td>A100100</td>\n",
              "      <td>2021</td>\n",
              "      <td>90</td>\n",
              "      <td>200</td>\n",
              "    </tr>\n",
              "    <tr>\n",
              "      <th>1</th>\n",
              "      <td>A</td>\n",
              "      <td>A100200</td>\n",
              "      <td>2021</td>\n",
              "      <td>141</td>\n",
              "      <td>210</td>\n",
              "    </tr>\n",
              "    <tr>\n",
              "      <th>2</th>\n",
              "      <td>A</td>\n",
              "      <td>A100300</td>\n",
              "      <td>2021</td>\n",
              "      <td>6</td>\n",
              "      <td>25</td>\n",
              "    </tr>\n",
              "    <tr>\n",
              "      <th>3</th>\n",
              "      <td>A</td>\n",
              "      <td>A100400</td>\n",
              "      <td>2021</td>\n",
              "      <td>54</td>\n",
              "      <td>65</td>\n",
              "    </tr>\n",
              "    <tr>\n",
              "      <th>4</th>\n",
              "      <td>A</td>\n",
              "      <td>A100500</td>\n",
              "      <td>2021</td>\n",
              "      <td>63</td>\n",
              "      <td>95</td>\n",
              "    </tr>\n",
              "  </tbody>\n",
              "</table>\n",
              "</div>\n",
              "      <button class=\"colab-df-convert\" onclick=\"convertToInteractive('df-7ba69840-84d4-45cf-b23b-f3f0d5e3faa1')\"\n",
              "              title=\"Convert this dataframe to an interactive table.\"\n",
              "              style=\"display:none;\">\n",
              "        \n",
              "  <svg xmlns=\"http://www.w3.org/2000/svg\" height=\"24px\"viewBox=\"0 0 24 24\"\n",
              "       width=\"24px\">\n",
              "    <path d=\"M0 0h24v24H0V0z\" fill=\"none\"/>\n",
              "    <path d=\"M18.56 5.44l.94 2.06.94-2.06 2.06-.94-2.06-.94-.94-2.06-.94 2.06-2.06.94zm-11 1L8.5 8.5l.94-2.06 2.06-.94-2.06-.94L8.5 2.5l-.94 2.06-2.06.94zm10 10l.94 2.06.94-2.06 2.06-.94-2.06-.94-.94-2.06-.94 2.06-2.06.94z\"/><path d=\"M17.41 7.96l-1.37-1.37c-.4-.4-.92-.59-1.43-.59-.52 0-1.04.2-1.43.59L10.3 9.45l-7.72 7.72c-.78.78-.78 2.05 0 2.83L4 21.41c.39.39.9.59 1.41.59.51 0 1.02-.2 1.41-.59l7.78-7.78 2.81-2.81c.8-.78.8-2.07 0-2.86zM5.41 20L4 18.59l7.72-7.72 1.47 1.35L5.41 20z\"/>\n",
              "  </svg>\n",
              "      </button>\n",
              "      \n",
              "  <style>\n",
              "    .colab-df-container {\n",
              "      display:flex;\n",
              "      flex-wrap:wrap;\n",
              "      gap: 12px;\n",
              "    }\n",
              "\n",
              "    .colab-df-convert {\n",
              "      background-color: #E8F0FE;\n",
              "      border: none;\n",
              "      border-radius: 50%;\n",
              "      cursor: pointer;\n",
              "      display: none;\n",
              "      fill: #1967D2;\n",
              "      height: 32px;\n",
              "      padding: 0 0 0 0;\n",
              "      width: 32px;\n",
              "    }\n",
              "\n",
              "    .colab-df-convert:hover {\n",
              "      background-color: #E2EBFA;\n",
              "      box-shadow: 0px 1px 2px rgba(60, 64, 67, 0.3), 0px 1px 3px 1px rgba(60, 64, 67, 0.15);\n",
              "      fill: #174EA6;\n",
              "    }\n",
              "\n",
              "    [theme=dark] .colab-df-convert {\n",
              "      background-color: #3B4455;\n",
              "      fill: #D2E3FC;\n",
              "    }\n",
              "\n",
              "    [theme=dark] .colab-df-convert:hover {\n",
              "      background-color: #434B5C;\n",
              "      box-shadow: 0px 1px 3px 1px rgba(0, 0, 0, 0.15);\n",
              "      filter: drop-shadow(0px 1px 2px rgba(0, 0, 0, 0.3));\n",
              "      fill: #FFFFFF;\n",
              "    }\n",
              "  </style>\n",
              "\n",
              "      <script>\n",
              "        const buttonEl =\n",
              "          document.querySelector('#df-7ba69840-84d4-45cf-b23b-f3f0d5e3faa1 button.colab-df-convert');\n",
              "        buttonEl.style.display =\n",
              "          google.colab.kernel.accessAllowed ? 'block' : 'none';\n",
              "\n",
              "        async function convertToInteractive(key) {\n",
              "          const element = document.querySelector('#df-7ba69840-84d4-45cf-b23b-f3f0d5e3faa1');\n",
              "          const dataTable =\n",
              "            await google.colab.kernel.invokeFunction('convertToInteractive',\n",
              "                                                     [key], {});\n",
              "          if (!dataTable) return;\n",
              "\n",
              "          const docLinkHtml = 'Like what you see? Visit the ' +\n",
              "            '<a target=\"_blank\" href=https://colab.research.google.com/notebooks/data_table.ipynb>data table notebook</a>'\n",
              "            + ' to learn more about interactive tables.';\n",
              "          element.innerHTML = '';\n",
              "          dataTable['output_type'] = 'display_data';\n",
              "          await google.colab.output.renderOutput(dataTable, element);\n",
              "          const docLink = document.createElement('div');\n",
              "          docLink.innerHTML = docLinkHtml;\n",
              "          element.appendChild(docLink);\n",
              "        }\n",
              "      </script>\n",
              "    </div>\n",
              "  </div>\n",
              "  "
            ]
          },
          "metadata": {},
          "execution_count": 3
        }
      ]
    },
    {
      "cell_type": "markdown",
      "source": [
        "## using apply with simple summation task"
      ],
      "metadata": {
        "id": "d8R7YrEJ1dmY"
      }
    },
    {
      "cell_type": "code",
      "source": [
        "def sum(x, y):\n",
        "    return x * 15 + y ** 2"
      ],
      "metadata": {
        "id": "stvGHHwE097D"
      },
      "execution_count": 6,
      "outputs": []
    },
    {
      "cell_type": "code",
      "source": [
        "t = time.time()\n",
        "df['new'] = df.apply(lambda x: sum(x['geo_count'], x['ec_count']), axis=1)\n",
        "time.time() - t"
      ],
      "metadata": {
        "colab": {
          "base_uri": "https://localhost:8080/"
        },
        "id": "ra9ob83D1_20",
        "outputId": "0eac5358-e458-4d5b-a367-1180f3f285c4"
      },
      "execution_count": 7,
      "outputs": [
        {
          "output_type": "execute_result",
          "data": {
            "text/plain": [
              "86.58760833740234"
            ]
          },
          "metadata": {},
          "execution_count": 7
        }
      ]
    },
    {
      "cell_type": "code",
      "source": [
        "del df['new']"
      ],
      "metadata": {
        "id": "Dj4VlLPq2I0I"
      },
      "execution_count": 8,
      "outputs": []
    },
    {
      "cell_type": "code",
      "source": [
        "t = time.time()\n",
        "df['new'] = df.apply(lambda x: sum(x.geo_count, x.ec_count) , axis=1)\n",
        "time.time() - t"
      ],
      "metadata": {
        "colab": {
          "base_uri": "https://localhost:8080/"
        },
        "id": "UstmsqIj2GOW",
        "outputId": "576c01a6-677e-41e4-f214-b20c88279c7b"
      },
      "execution_count": 9,
      "outputs": [
        {
          "output_type": "execute_result",
          "data": {
            "text/plain": [
              "124.95700478553772"
            ]
          },
          "metadata": {},
          "execution_count": 9
        }
      ]
    },
    {
      "cell_type": "markdown",
      "source": [
        "**We can see that calling columns as \"x['geo_count']\" is abit faster compared to calling them as \"x.geo_count\"**"
      ],
      "metadata": {
        "id": "zIQBg1Yk2aDM"
      }
    },
    {
      "cell_type": "code",
      "source": [
        ""
      ],
      "metadata": {
        "id": "w4sGN1IjBoge"
      },
      "execution_count": null,
      "outputs": []
    },
    {
      "cell_type": "markdown",
      "source": [
        "## Let's test our tool: **swifter**"
      ],
      "metadata": {
        "id": "fJc95SYm2qWW"
      }
    },
    {
      "cell_type": "code",
      "source": [
        "t = time.time()\n",
        "df['new'] = df.swifter.apply(lambda x: sum(x['geo_count'], x['ec_count']), axis=1)\n",
        "time.time() - t"
      ],
      "metadata": {
        "colab": {
          "base_uri": "https://localhost:8080/"
        },
        "id": "oMUDLW1o3ATA",
        "outputId": "224caa03-901c-4b6c-e90a-5d85089ccf0d"
      },
      "execution_count": 12,
      "outputs": [
        {
          "output_type": "execute_result",
          "data": {
            "text/plain": [
              "0.0893561840057373"
            ]
          },
          "metadata": {},
          "execution_count": 12
        }
      ]
    },
    {
      "cell_type": "code",
      "source": [
        "t = time.time()\n",
        "df['new'] = df.swifter.apply(lambda x: sum(x.geo_count, x.ec_count), axis=1)\n",
        "time.time() - t"
      ],
      "metadata": {
        "colab": {
          "base_uri": "https://localhost:8080/"
        },
        "id": "G3PpTFBA2SZ2",
        "outputId": "1b4bb97b-c967-404d-dedf-ead9abbd4a13"
      },
      "execution_count": 23,
      "outputs": [
        {
          "output_type": "execute_result",
          "data": {
            "text/plain": [
              "0.09285783767700195"
            ]
          },
          "metadata": {},
          "execution_count": 23
        }
      ]
    },
    {
      "cell_type": "code",
      "source": [
        "86.58760833740234 / 0.0953836441040039"
      ],
      "metadata": {
        "colab": {
          "base_uri": "https://localhost:8080/"
        },
        "id": "w16LzxqU3VIo",
        "outputId": "d61531fe-47ad-4401-f8aa-30c97f4ce98f"
      },
      "execution_count": 16,
      "outputs": [
        {
          "output_type": "execute_result",
          "data": {
            "text/plain": [
              "907.7825569653158"
            ]
          },
          "metadata": {},
          "execution_count": 16
        }
      ]
    },
    {
      "cell_type": "code",
      "source": [
        "124.95700478553772 / 0.0893561840057373\n"
      ],
      "metadata": {
        "colab": {
          "base_uri": "https://localhost:8080/"
        },
        "id": "hlx-wcEY3NXu",
        "outputId": "6ed7bdb1-5998-4d96-d94c-a2e1b4a2b02c"
      },
      "execution_count": 15,
      "outputs": [
        {
          "output_type": "execute_result",
          "data": {
            "text/plain": [
              "1398.414739572077"
            ]
          },
          "metadata": {},
          "execution_count": 15
        }
      ]
    },
    {
      "cell_type": "markdown",
      "source": [
        "**As We see, Just by adding swifter, the code is faster between 900X to 1398X**"
      ],
      "metadata": {
        "id": "Wn33vh1H3Kb3"
      }
    },
    {
      "cell_type": "code",
      "source": [
        ""
      ],
      "metadata": {
        "id": "nWCFZccoBkOF"
      },
      "execution_count": null,
      "outputs": []
    },
    {
      "cell_type": "markdown",
      "source": [
        "### Why is **swifter** that faster?\n",
        "\n",
        "**The answer is simple, swifter support Parallelization, so the processing become faster when you deal with big data**"
      ],
      "metadata": {
        "id": "O9a9175632CI"
      }
    },
    {
      "cell_type": "code",
      "source": [
        ""
      ],
      "metadata": {
        "id": "wNbD4_KFBhXW"
      },
      "execution_count": null,
      "outputs": []
    },
    {
      "cell_type": "markdown",
      "source": [
        "## Can we make the code more faster?\n",
        "\n"
      ],
      "metadata": {
        "id": "N9ohmlx34Ukm"
      }
    },
    {
      "cell_type": "markdown",
      "source": [
        "**The answer in vectorization:**\n",
        "* You should try first to vectorize your process, this is the optimal solution\n",
        "* in some cases, it will be hard to do that, so you can use swifter to speed up your code using the advantage of Parallelization "
      ],
      "metadata": {
        "id": "YVLJB__s5NLP"
      }
    },
    {
      "cell_type": "code",
      "source": [
        "t = time.time()\n",
        "df['new2'] = df['geo_count'] * 15 + df['ec_count'] ** 2\n",
        "time.time() - t"
      ],
      "metadata": {
        "colab": {
          "base_uri": "https://localhost:8080/"
        },
        "id": "lBn_NEGP3Gui",
        "outputId": "6df2eb07-9dd1-4867-d9e3-8c81f369a31f"
      },
      "execution_count": 21,
      "outputs": [
        {
          "output_type": "execute_result",
          "data": {
            "text/plain": [
              "0.07243514060974121"
            ]
          },
          "metadata": {},
          "execution_count": 21
        }
      ]
    },
    {
      "cell_type": "code",
      "source": [
        "df['new'] == df['new2']"
      ],
      "metadata": {
        "colab": {
          "base_uri": "https://localhost:8080/"
        },
        "id": "w3Ct0kKH45op",
        "outputId": "578846d2-b932-4f5f-dc66-232b329cd1d9"
      },
      "execution_count": 24,
      "outputs": [
        {
          "output_type": "execute_result",
          "data": {
            "text/plain": [
              "0          True\n",
              "1          True\n",
              "2          True\n",
              "3          True\n",
              "4          True\n",
              "           ... \n",
              "5704242    True\n",
              "5704243    True\n",
              "5704244    True\n",
              "5704245    True\n",
              "5704246    True\n",
              "Length: 5704247, dtype: bool"
            ]
          },
          "metadata": {},
          "execution_count": 24
        }
      ]
    },
    {
      "cell_type": "code",
      "source": [
        ""
      ],
      "metadata": {
        "id": "_Iyd0UItBmEn"
      },
      "execution_count": null,
      "outputs": []
    },
    {
      "cell_type": "markdown",
      "source": [
        "## resources:\n",
        "\n",
        "1. https://towardsdatascience.com/speed-up-your-pandas-processing-with-swifter-6aa314600a13\n",
        "\n",
        "2. https://towardsdatascience.com/do-you-use-apply-in-pandas-there-is-a-600x-faster-way-d2497facfa66"
      ],
      "metadata": {
        "id": "Mi_mIazCAwuO"
      }
    },
    {
      "cell_type": "code",
      "source": [
        ""
      ],
      "metadata": {
        "id": "-w9eOorB5KVr"
      },
      "execution_count": null,
      "outputs": []
    }
  ]
}